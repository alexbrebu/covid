{
 "cells": [
  {
   "cell_type": "markdown",
   "id": "744b5a04-4878-4404-a49d-2a95af859309",
   "metadata": {},
   "source": [
    "# Semantic Web - Tehnologies - Presentation\n",
    "\n",
    "\n",
    "\n",
    "* **Tehnology**: rdflib Python package\n",
    "* **Student**: Brebu Andrei-Alexandru, SCPD\n",
    "* **Deadline**: 2022.03.23"
   ]
  },
  {
   "cell_type": "markdown",
   "id": "ece367f8-542a-4f4e-bd73-cea4307a9f58",
   "metadata": {},
   "source": [
    "### Short recap\n",
    "\n",
    "[RDF](https://www.w3.org/RDF/) allows us to make statements about resources. A statement always has the following structure:\n",
    "\n",
    "```<subject> <predicate> <object>```\n",
    "\n",
    "An RDF statement expresses a relationship between two resources. The subject and the object represent the two resources being related; the predicate represents the nature of their relationship. The relationship is phrased in a directional way (from subject to object) and is called in RDF a property. Because RDF statements consist of three elements, they are called triples."
   ]
  },
  {
   "cell_type": "markdown",
   "id": "d5123622-a703-4874-aefa-da642e91c24b",
   "metadata": {},
   "source": [
    "# rdflib\n",
    "\n",
    "RDFLib is a pure Python package for working with RDF. RDFLib contains most of the things you need to work with RDF, including the following:\n",
    "- parsers and serializers for RDF/XML, N3, NTriples, N-Quads, Turtle, TriX, RDFa, Microdata and JSON-LD (via a plugin)\n",
    "- a Graph interface that can be backed by any one of a number of Store implementations\n",
    "- store implementations for in-memory storage and persistent storage on top of the Berkeley DB\n",
    "- a SPARQL 1.1 implementation supporting Queries and Update statements\n",
    "\n",
    "See https://rdflib.readthedocs.org/en/latest/"
   ]
  },
  {
   "cell_type": "code",
   "execution_count": 8,
   "id": "e5f398f2-fc13-43d8-a60e-d6150e25f0cd",
   "metadata": {},
   "outputs": [
    {
     "name": "stdout",
     "output_type": "stream",
     "text": [
      "\u001b[33mDEPRECATION: Configuring installation scheme with distutils config files is deprecated and will no longer work in the near future. If you are using a Homebrew or Linuxbrew Python, please see discussion at https://github.com/Homebrew/homebrew-core/issues/76621\u001b[0m\n",
      "Requirement already satisfied: rdflib in /usr/local/lib/python3.9/site-packages (6.1.1)\n",
      "Requirement already satisfied: isodate in /usr/local/lib/python3.9/site-packages (from rdflib) (0.6.1)\n",
      "Requirement already satisfied: setuptools in /usr/local/lib/python3.9/site-packages (from rdflib) (60.5.0)\n",
      "Requirement already satisfied: pyparsing in /usr/local/lib/python3.9/site-packages (from rdflib) (3.0.7)\n",
      "Requirement already satisfied: six in /usr/local/lib/python3.9/site-packages (from isodate->rdflib) (1.15.0)\n",
      "\u001b[33mWARNING: You are using pip version 21.3.1; however, version 22.0.4 is available.\n",
      "You should consider upgrading via the '/usr/local/opt/python@3.9/bin/python3.9 -m pip install --upgrade pip' command.\u001b[0m\n"
     ]
    }
   ],
   "source": [
    "!pip install rdflib"
   ]
  },
  {
   "cell_type": "markdown",
   "id": "a766829b-8c05-4e28-a4fc-a07f90738351",
   "metadata": {},
   "source": [
    "## More information about rdflib package"
   ]
  },
  {
   "cell_type": "code",
   "execution_count": 9,
   "id": "7366c336-b3a2-4b0d-aad6-47bf134fefb8",
   "metadata": {},
   "outputs": [
    {
     "name": "stdout",
     "output_type": "stream",
     "text": [
      "Name: rdflib\n",
      "Version: 6.1.1\n",
      "Summary: RDFLib is a Python library for working with RDF, a simple yet powerful language for representing information.\n",
      "Home-page: https://github.com/RDFLib/rdflib\n",
      "Author: Daniel 'eikeon' Krech\n",
      "Author-email: eikeon@eikeon.com\n",
      "License: bsd-3-clause\n",
      "Location: /usr/local/lib/python3.9/site-packages\n",
      "Requires: isodate, pyparsing, setuptools\n",
      "Required-by: \n"
     ]
    }
   ],
   "source": [
    "!pip show rdflib"
   ]
  },
  {
   "cell_type": "markdown",
   "id": "e6455df2-ba3b-4faa-995a-0f004e490ba9",
   "metadata": {},
   "source": [
    "## Short intro\n",
    "\n",
    "The primary interface that RDFLib exposes for working with RDF is a [Graph](https://rdflib.readthedocs.io/en/stable/apidocs/rdflib.html#rdflib.graph.Graph).\n",
    "\n",
    "RDFLib graphs are un-sorted containers; they have ordinary set operations (e.g. [add](https://rdflib.readthedocs.io/en/stable/apidocs/rdflib.html#rdflib.Graph.add)() to add a triple) plus methods that search triples and return them in arbitrary order.\n",
    "\n",
    "RDFLib graphs also redefine certain built-in Python methods in order to behave in a predictable way: they [emulate container types](http://docs.python.org/release/2.5.2/ref/sequence-types.html) and are best thought of as a set of 3-item tuples (“triples”, in RDF-speak):\n",
    "\n",
    "```python\n",
    "[\n",
    "    (subject0, predicate0, object0),\n",
    "    (subject1, predicate1, object1),\n",
    "    ...\n",
    "    (subjectN, predicateN, objectN)\n",
    "]\n",
    "```"
   ]
  },
  {
   "cell_type": "markdown",
   "id": "bc6b1cd5-1590-45b4-99a9-6973a1387266",
   "metadata": {},
   "source": [
    "### Example 1"
   ]
  },
  {
   "cell_type": "code",
   "execution_count": 10,
   "id": "7b19c519-4adb-4711-a9d2-7f7bdefd5895",
   "metadata": {},
   "outputs": [],
   "source": [
    "from rdflib import Graph"
   ]
  },
  {
   "cell_type": "code",
   "execution_count": 11,
   "id": "e7002c0f-b3f3-463e-aa83-e5b36dfa1acb",
   "metadata": {},
   "outputs": [],
   "source": [
    "g = Graph() # init a graph"
   ]
  },
  {
   "cell_type": "code",
   "execution_count": 12,
   "id": "66f3262d-b750-4ee5-bd50-3594e01d283f",
   "metadata": {},
   "outputs": [],
   "source": [
    "RDF_GRAPH = 'http://dbpedia.org/resource/Michael_Jackson'\n",
    "\n",
    "# there are many different ways how you can parse a graph\n",
    "# - local graph\n",
    "#     - from the file\n",
    "#     - from a string\n",
    "# - external graph\n",
    "#     - URL\n"
   ]
  },
  {
   "cell_type": "code",
   "execution_count": 13,
   "id": "41736c8e-9233-45c8-a95f-722dec7927a6",
   "metadata": {},
   "outputs": [
    {
     "data": {
      "text/plain": [
       "<Graph identifier=N20e78d32b88849d1b258ac9b5440670d (<class 'rdflib.graph.Graph'>)>"
      ]
     },
     "execution_count": 13,
     "metadata": {},
     "output_type": "execute_result"
    }
   ],
   "source": [
    "g.parse(RDF_GRAPH) # parse in an RDF file"
   ]
  },
  {
   "cell_type": "code",
   "execution_count": 14,
   "id": "25aac1db-338d-44e9-92e8-d2d0de8645a3",
   "metadata": {},
   "outputs": [
    {
     "name": "stdout",
     "output_type": "stream",
     "text": [
      "http://dbpedia.org/resource/Michael_Jackson http://dbpedia.org/ontology/wikiPageWikiLink http://dbpedia.org/resource/Rolling_Stone\n",
      "http://dbpedia.org/resource/Ricky_Lawson http://dbpedia.org/ontology/associatedMusicalArtist http://dbpedia.org/resource/Michael_Jackson\n",
      "http://dbpedia.org/resource/Martin_Scorsese_filmography http://dbpedia.org/ontology/wikiPageWikiLink http://dbpedia.org/resource/Michael_Jackson\n",
      "http://dbpedia.org/resource/Triumph_(The_Jacksons_album) http://dbpedia.org/ontology/wikiPageWikiLink http://dbpedia.org/resource/Michael_Jackson\n",
      "http://dbpedia.org/resource/Shake_Your_Body_(Down_to_the_Ground) http://dbpedia.org/ontology/wikiPageWikiLink http://dbpedia.org/resource/Michael_Jackson\n",
      "http://dbpedia.org/resource/Meanwhile,_Back_at_the_Ranch_(album) http://dbpedia.org/ontology/wikiPageWikiLink http://dbpedia.org/resource/Michael_Jackson\n",
      "http://dbpedia.org/resource/Holland–Dozier–Holland http://dbpedia.org/ontology/associatedMusicalArtist http://dbpedia.org/resource/Michael_Jackson\n",
      "http://dbpedia.org/resource/Michael_Jackson http://dbpedia.org/ontology/wikiPageWikiLink http://dbpedia.org/resource/Michael_Jackson:_30th_Anniversary_Celebration\n",
      "http://dbpedia.org/resource/Natalie_Gauci http://dbpedia.org/ontology/wikiPageWikiLink http://dbpedia.org/resource/Michael_Jackson\n",
      "http://dbpedia.org/resource/Treasure_(Bruno_Mars_song) http://dbpedia.org/ontology/wikiPageWikiLink http://dbpedia.org/resource/Michael_Jackson\n",
      "http://dbpedia.org/resource/George_Komsky http://dbpedia.org/ontology/wikiPageWikiLink http://dbpedia.org/resource/Michael_Jackson\n"
     ]
    }
   ],
   "source": [
    "# Loop through each triple in the graph (subj, pred, obj)\n",
    "for index, (sub, pred, obj) in enumerate(g):\n",
    "    print(sub, pred, obj)\n",
    "    if index == 10:\n",
    "        break"
   ]
  },
  {
   "cell_type": "code",
   "execution_count": 15,
   "id": "fd3a2838-404a-4451-a603-96c57606afb8",
   "metadata": {},
   "outputs": [
    {
     "name": "stdout",
     "output_type": "stream",
     "text": [
      "graph has 9635 triples/facts\n"
     ]
    }
   ],
   "source": [
    "# Print the size of the Graph\n",
    "print(f\"graph has {len(g)} triples/facts\")"
   ]
  },
  {
   "cell_type": "code",
   "execution_count": 16,
   "id": "879911c9-c17e-4389-84b3-79b4d114fbff",
   "metadata": {},
   "outputs": [],
   "source": [
    "\n",
    "# Print out the entire Graph in the RDF Turtle format\n",
    "# print(g.serialize(format='ttl'))"
   ]
  },
  {
   "cell_type": "markdown",
   "id": "f8b509b2-db7c-4f53-bdbc-0028ae4fde2e",
   "metadata": {},
   "source": [
    "### Creating Nodes\n",
    "\n",
    "The subjects and objects of the triples make up the nodes in the graph where the nodes are URI references, Blank Nodes or Literals. In the RDFLib, these node types are represented by the classes **URIRef**, **BNode**, **Literal**. URIRefs and BNodes can both be thought of as resources, such as a person, a company, a website, etc.\n",
    "- A BNode is a node where the exact URI is not known.\n",
    "- A URIRef is a node where the exact URI is known. URIRefs are also used to represent the properties/predicates in the RDF graph.\n",
    "- Literals represent attribute values, such as a name, a date, a number, etc. The most common literal values are XML data types (e.g. string, int, ...).\n"
   ]
  },
  {
   "cell_type": "markdown",
   "id": "6860324d-a651-49b3-8ae2-b58c1b812e83",
   "metadata": {
    "tags": []
   },
   "source": [
    "### Example 2\n",
    "In this example, we are going to create a node. We want to identify this node by RDF URI."
   ]
  },
  {
   "cell_type": "code",
   "execution_count": 17,
   "id": "55575486-35bf-4ecc-adf8-119cba1416c3",
   "metadata": {},
   "outputs": [],
   "source": [
    "from rdflib import Graph\n",
    "g = Graph()"
   ]
  },
  {
   "cell_type": "code",
   "execution_count": null,
   "id": "560f2e33-130c-4398-af20-1be57c8a3be8",
   "metadata": {},
   "outputs": [],
   "source": []
  },
  {
   "cell_type": "code",
   "execution_count": 18,
   "id": "c4e6b5e5-3736-46fd-b1d6-5dc40fcf791e",
   "metadata": {},
   "outputs": [],
   "source": [
    "# Create an RDF URI node to use as the subject for multiple triples\n",
    "\n",
    "from rdflib import URIRef"
   ]
  },
  {
   "cell_type": "code",
   "execution_count": 19,
   "id": "c52e7c9a-1932-4871-b04f-7fca39be4ded",
   "metadata": {},
   "outputs": [
    {
     "data": {
      "text/plain": [
       "rdflib.term.URIRef('http://example.org/cosmin')"
      ]
     },
     "execution_count": 19,
     "metadata": {},
     "output_type": "execute_result"
    }
   ],
   "source": [
    "\n",
    "cosmin = URIRef(\"http://example.org/cosmin\")\n",
    "cosmin"
   ]
  },
  {
   "cell_type": "code",
   "execution_count": 20,
   "id": "7802a8e6-0a0b-44f5-adcb-abf16bd9168b",
   "metadata": {},
   "outputs": [],
   "source": [
    "# Add triples/facts\n",
    "\n",
    "from rdflib import RDF, Literal\n",
    "from rdflib.namespace import FOAF, XSD\n",
    "\n"
   ]
  },
  {
   "cell_type": "code",
   "execution_count": 21,
   "id": "11ac98d6-2c3a-4ae0-8296-c3cf885e0117",
   "metadata": {},
   "outputs": [
    {
     "data": {
      "text/plain": [
       "<Graph identifier=Nfc0fd35812f84ffa86a391ab9263f6f0 (<class 'rdflib.graph.Graph'>)>"
      ]
     },
     "execution_count": 21,
     "metadata": {},
     "output_type": "execute_result"
    }
   ],
   "source": [
    "g.add((cosmin, RDF.type, FOAF.Person))"
   ]
  },
  {
   "cell_type": "code",
   "execution_count": 22,
   "id": "b34c05ca-84d5-465a-8939-9f54cf7020a0",
   "metadata": {},
   "outputs": [
    {
     "data": {
      "text/plain": [
       "<Graph identifier=Nfc0fd35812f84ffa86a391ab9263f6f0 (<class 'rdflib.graph.Graph'>)>"
      ]
     },
     "execution_count": 22,
     "metadata": {},
     "output_type": "execute_result"
    }
   ],
   "source": [
    "g.add((cosmin, FOAF.nick, Literal(\"cosmos\", lang=\"en\")))"
   ]
  },
  {
   "cell_type": "code",
   "execution_count": 23,
   "id": "62924095-f145-4e8f-99bd-f4e36565246f",
   "metadata": {},
   "outputs": [
    {
     "data": {
      "text/plain": [
       "<Graph identifier=Nfc0fd35812f84ffa86a391ab9263f6f0 (<class 'rdflib.graph.Graph'>)>"
      ]
     },
     "execution_count": 23,
     "metadata": {},
     "output_type": "execute_result"
    }
   ],
   "source": [
    "g.add((cosmin, FOAF.name, Literal(\"Cosmin Kosmin\")))"
   ]
  },
  {
   "cell_type": "code",
   "execution_count": 24,
   "id": "bc65f8e9-5ee7-40df-a1be-ebabb829672c",
   "metadata": {},
   "outputs": [
    {
     "data": {
      "text/plain": [
       "<Graph identifier=Nfc0fd35812f84ffa86a391ab9263f6f0 (<class 'rdflib.graph.Graph'>)>"
      ]
     },
     "execution_count": 24,
     "metadata": {},
     "output_type": "execute_result"
    }
   ],
   "source": [
    "g.add((cosmin, FOAF.mbox, URIRef(\"mailto:cosmin@yahoo.com\")))"
   ]
  },
  {
   "cell_type": "code",
   "execution_count": null,
   "id": "6f4b7c99-585e-4b57-aa86-764541ff8842",
   "metadata": {},
   "outputs": [],
   "source": []
  },
  {
   "cell_type": "code",
   "execution_count": 25,
   "id": "8c06c2d9-d5e3-4334-9678-2662eb077e08",
   "metadata": {},
   "outputs": [
    {
     "data": {
      "text/plain": [
       "<Graph identifier=Nfc0fd35812f84ffa86a391ab9263f6f0 (<class 'rdflib.graph.Graph'>)>"
      ]
     },
     "execution_count": 25,
     "metadata": {},
     "output_type": "execute_result"
    }
   ],
   "source": [
    "# Add another person\n",
    "\n",
    "maria = URIRef(\"http://example.org/maria\")\n",
    "\n",
    "# Add triples/facts\n",
    "g.add((maria, RDF.type, FOAF.Person))\n",
    "g.add((maria, FOAF.nick, Literal(\"maria\", datatype=XSD.string))) # here we defined a datatype instead of a language for this literal\n",
    "g.add((maria, FOAF.name, Literal(\"Maria Santana\")))\n",
    "g.add((maria, FOAF.mbox, URIRef(\"mailto:maria.santana@stud.acs.upb.ro\")))"
   ]
  },
  {
   "cell_type": "code",
   "execution_count": 26,
   "id": "5e0657cc-0fa1-4e5b-96a0-771cd167d15e",
   "metadata": {},
   "outputs": [
    {
     "name": "stdout",
     "output_type": "stream",
     "text": [
      "http://example.org/maria http://xmlns.com/foaf/0.1/nick maria\n",
      "http://example.org/cosmin http://www.w3.org/1999/02/22-rdf-syntax-ns#type http://xmlns.com/foaf/0.1/Person\n",
      "http://example.org/cosmin http://xmlns.com/foaf/0.1/mbox mailto:cosmin@yahoo.com\n",
      "http://example.org/maria http://xmlns.com/foaf/0.1/name Maria Santana\n",
      "http://example.org/cosmin http://xmlns.com/foaf/0.1/nick cosmos\n",
      "http://example.org/maria http://www.w3.org/1999/02/22-rdf-syntax-ns#type http://xmlns.com/foaf/0.1/Person\n",
      "http://example.org/cosmin http://xmlns.com/foaf/0.1/name Cosmin Kosmin\n",
      "http://example.org/maria http://xmlns.com/foaf/0.1/mbox mailto:maria.santana@stud.acs.upb.ro\n"
     ]
    }
   ],
   "source": [
    "for sub, pred, obj in g:\n",
    "    print(sub, pred, obj)"
   ]
  },
  {
   "cell_type": "code",
   "execution_count": 27,
   "id": "58639edf-f0db-4e25-9451-e10ceb55281d",
   "metadata": {},
   "outputs": [
    {
     "name": "stdout",
     "output_type": "stream",
     "text": [
      "cosmos\n",
      "maria\n"
     ]
    }
   ],
   "source": [
    "# For each foaf:Person in the graph, print out their nickname's value\n",
    "for person in g.subjects(RDF.type, FOAF.Person):\n",
    "    for nick in g.objects(person, FOAF.nick):\n",
    "        print(nick)"
   ]
  },
  {
   "cell_type": "code",
   "execution_count": 28,
   "id": "1a8c5a5d-e8c4-4f5e-8515-f41bc04c50bc",
   "metadata": {},
   "outputs": [],
   "source": [
    "# Bind the FOAF namespace to a prefix for more readable output\n",
    "g.bind(\"foaf\", FOAF)"
   ]
  },
  {
   "cell_type": "code",
   "execution_count": 29,
   "id": "865607b1-becb-4102-9f1d-06bcacc90221",
   "metadata": {},
   "outputs": [
    {
     "name": "stdout",
     "output_type": "stream",
     "text": [
      "@prefix foaf: <http://xmlns.com/foaf/0.1/> .\n",
      "@prefix xsd: <http://www.w3.org/2001/XMLSchema#> .\n",
      "\n",
      "<http://example.org/cosmin> a foaf:Person ;\n",
      "    foaf:mbox <mailto:cosmin@yahoo.com> ;\n",
      "    foaf:name \"Cosmin Kosmin\" ;\n",
      "    foaf:nick \"cosmos\"@en .\n",
      "\n",
      "<http://example.org/maria> a foaf:Person ;\n",
      "    foaf:mbox <mailto:maria.santana@stud.acs.upb.ro> ;\n",
      "    foaf:name \"Maria Santana\" ;\n",
      "    foaf:nick \"maria\"^^xsd:string .\n",
      "\n",
      "\n"
     ]
    }
   ],
   "source": [
    "# Print all the data in the n3 format\n",
    "print(g.serialize(format=\"n3\"))\n",
    "# g.serialize(destination=\"tbl.ttl\")"
   ]
  },
  {
   "cell_type": "markdown",
   "id": "46b7a41a-b016-4fed-b0e8-b8fcda98c173",
   "metadata": {},
   "source": [
    "To visualise our RDF, go to https://www.ldf.fi/service/rdf-grapher."
   ]
  },
  {
   "cell_type": "markdown",
   "id": "ea870082-f7fa-42a6-8f38-f502fe02e742",
   "metadata": {},
   "source": [
    "## More about RDFLib\n",
    "When discussing about RDF data storing, we have the following classification:\n",
    "\n",
    "- **Native RDF Stores**: RDF stores that implement their own database engine without reusing the storage and retrieval functionalities of other database management systems (e.g. `Apache Jena TDB`)\n",
    "- **DBMS-backed Stores**: RDF Stores that use the storage and retrieval functionality provided by another database management system (e.g. `rdflib`, `Apache Jena SDB`)\n",
    "- **Non-RDF DB support**\n",
    "- **Hybrid Stores**: RDF Stores that supports both architectural styles (native and DBMS-backed) (e.g. `rdf4j`)"
   ]
  },
  {
   "cell_type": "markdown",
   "id": "9d1ca653-5173-4d4a-a2e3-a1b9954b8e95",
   "metadata": {},
   "source": [
    "### Latest release\n",
    "RDFlib 6.1.1 on 20 Dec 2021### RDFlib Family of packages\n",
    "The RDFlib community maintains many RDF-related Python code repositories with different purposes. For example:\n",
    "\n",
    " - rdflib - the RDFLib core\n",
    " - sparqlwrapper - a simple Python wrapper around a SPARQL service to remotely execute your queries\n",
    " - pyLODE - An OWL ontology documentation tool using Python and templating, based on LODE.\n",
    " \n",
    "Please see the list for all packages/repositories here:\n",
    "\n",
    "https://github.com/RDFLib"
   ]
  },
  {
   "cell_type": "markdown",
   "id": "78071c31-abe2-482b-923a-f20baecad47c",
   "metadata": {},
   "source": [
    "### Latest release\n",
    "RDFlib 6.1.1 on 20 Dec 2021"
   ]
  },
  {
   "cell_type": "markdown",
   "id": "148bbfc8-3907-4252-8a20-6ac941b58268",
   "metadata": {},
   "source": [
    "### Persistence\n",
    "\n",
    "RDFLib provides an [abstracted Store API](https://rdflib.readthedocs.io/en/stable/apidocs/rdflib.html#rdflib.store.Store) for persistence of RDF and Notation 3.\n",
    "\n",
    "The [Graph](https://rdflib.readthedocs.io/en/stable/apidocs/rdflib.html#rdflib.graph.Graph) class works with instances of this API (as the first argument to its constructor) for triple-based management of an RDF store including: garbage collection, transaction management, update, pattern matching, removal, length, and database management ([open](https://rdflib.readthedocs.io/en/stable/apidocs/rdflib.html#rdflib.graph.Graph.open)() / [close](https://rdflib.readthedocs.io/en/stable/apidocs/rdflib.html#rdflib.graph.Graph.close)() / [destroy](https://rdflib.readthedocs.io/en/stable/apidocs/rdflib.html#rdflib.graph.Graph.destroy)()).\n",
    "\n",
    "\n",
    "###  Stores currently shipped with core RDFLib\n",
    "\n",
    " - [Memory](https://rdflib.readthedocs.io/en/stable/apidocs/rdflib.plugins.stores.html#rdflib.plugins.stores.memory.Memory) - not persistent!\n",
    " - [BerkeleyDB](https://rdflib.readthedocs.io/en/stable/apidocs/rdflib.plugins.stores.html#rdflib.plugins.stores.berkeleydb.BerkeleyDB) - on disk persistence via Python’s berkeleydb package\n",
    " - [SPARQLStore](https://rdflib.readthedocs.io/en/stable/apidocs/rdflib.plugins.stores.html#rdflib.plugins.stores.sparqlstore.SPARQLStore) - a read-only wrapper around a remote SPARQL Query endpoint\n",
    " - [SPARQLUpdateStore](https://rdflib.readthedocs.io/en/stable/apidocs/rdflib.plugins.stores.html#rdflib.plugins.stores.sparqlstore.SPARQLUpdateStore) - a read-write wrapper around a remote SPARQL query/update endpoint pair\n",
    "\n",
    "\n",
    "See https://rdflib.readthedocs.io/en/stable/persistence.html\n"
   ]
  },
  {
   "cell_type": "markdown",
   "id": "48e1d8ab-0b8a-464d-a7a1-e3370574a8c6",
   "metadata": {},
   "source": [
    "### Example 3 - BerkeleyDB for persistence\n",
    "\n",
    "Please make sure you have installed `Oracle Berkeley DB` before running next cells.\n",
    "\n",
    "For MacOS, you can do it with brew:\n",
    "```bash\n",
    "\n",
    "brew install berkeley-db\n",
    "```\n",
    "\n",
    "When installation is completed, install the python package `berkeleydb`"
   ]
  },
  {
   "cell_type": "code",
   "execution_count": 30,
   "id": "616e9fde-2728-4914-ab14-0be9035e8188",
   "metadata": {},
   "outputs": [
    {
     "name": "stdout",
     "output_type": "stream",
     "text": [
      "\u001b[33mDEPRECATION: Configuring installation scheme with distutils config files is deprecated and will no longer work in the near future. If you are using a Homebrew or Linuxbrew Python, please see discussion at https://github.com/Homebrew/homebrew-core/issues/76621\u001b[0m\n",
      "Requirement already satisfied: berkeleydb in /usr/local/lib/python3.9/site-packages (18.1.5)\n",
      "\u001b[33mWARNING: You are using pip version 21.3.1; however, version 22.0.4 is available.\n",
      "You should consider upgrading via the '/usr/local/opt/python@3.9/bin/python3.9 -m pip install --upgrade pip' command.\u001b[0m\n"
     ]
    }
   ],
   "source": [
    "!(YES_I_HAVE_THE_RIGHT_TO_USE_THIS_BERKELEY_DB_VERSION=1 pip install berkeleydb)\n",
    "# --berkeley-db=/usr/local/Cellar/berkeley-db"
   ]
  },
  {
   "cell_type": "code",
   "execution_count": 64,
   "id": "91949043-2a68-4b1c-ae33-e38ef2aea438",
   "metadata": {},
   "outputs": [],
   "source": [
    "from rdflib import Graph\n",
    "\n",
    "graph = Graph(store=\"BerkeleyDB\")"
   ]
  },
  {
   "cell_type": "markdown",
   "id": "107c4bae-471e-47a7-9a20-0fa89a9920bc",
   "metadata": {},
   "source": [
    "First time, we will create the store."
   ]
  },
  {
   "cell_type": "code",
   "execution_count": 65,
   "id": "861f035e-e3cb-4df8-8d3c-67bbb8b07f92",
   "metadata": {},
   "outputs": [
    {
     "data": {
      "text/plain": [
       "1"
      ]
     },
     "execution_count": 65,
     "metadata": {},
     "output_type": "execute_result"
    }
   ],
   "source": [
    "graph.open(\"../data/berkeleydb_rdflib_store\", create=True)\n"
   ]
  },
  {
   "cell_type": "markdown",
   "id": "aa612823-2e35-46fc-bd0b-5eb0712bbc0b",
   "metadata": {},
   "source": [
    "Now, we will store the data that we created earlier in our new persistent store."
   ]
  },
  {
   "cell_type": "code",
   "execution_count": 66,
   "id": "1c0eb3ba-17e4-4b40-9d8d-2240737373af",
   "metadata": {},
   "outputs": [
    {
     "name": "stdout",
     "output_type": "stream",
     "text": [
      "@prefix foaf: <http://xmlns.com/foaf/0.1/> .\n",
      "@prefix xsd: <http://www.w3.org/2001/XMLSchema#> .\n",
      "\n",
      "<http://example.org/cosmin> a foaf:Person ;\n",
      "    foaf:mbox <mailto:cosmin@yahoo.com> ;\n",
      "    foaf:name \"Cosmin Kosmin\" ;\n",
      "    foaf:nick \"cosmos\"@en .\n",
      "\n",
      "<http://example.org/maria> a foaf:Person ;\n",
      "    foaf:mbox <mailto:maria.santana@stud.acs.upb.ro> ;\n",
      "    foaf:name \"Maria Santana\" ;\n",
      "    foaf:nick \"maria\"^^xsd:string .\n",
      "\n",
      "\n"
     ]
    }
   ],
   "source": [
    "data = g.serialize(format=\"ttl\")\n",
    "print(data)"
   ]
  },
  {
   "cell_type": "code",
   "execution_count": 68,
   "id": "4ff85144-5c61-423a-b696-7b305bba3976",
   "metadata": {},
   "outputs": [
    {
     "data": {
      "text/plain": [
       "<Graph identifier=N38b51482611c4a658c0d9ccad0e32159 (<class 'rdflib.graph.Graph'>)>"
      ]
     },
     "execution_count": 68,
     "metadata": {},
     "output_type": "execute_result"
    }
   ],
   "source": [
    "graph.parse(data=data, format=\"ttl\")"
   ]
  },
  {
   "cell_type": "markdown",
   "id": "d50ec2fd-a73f-4b2b-a805-7bd7c5edde91",
   "metadata": {},
   "source": [
    "Now, graph is persisted on-disk  "
   ]
  },
  {
   "cell_type": "code",
   "execution_count": 69,
   "id": "c3b51918-2098-4581-8005-e8cafbd634ec",
   "metadata": {},
   "outputs": [],
   "source": [
    "# when done!\n",
    "graph.close()"
   ]
  },
  {
   "cell_type": "code",
   "execution_count": null,
   "id": "d23e7610-01c7-4277-8b7f-ef647a6ce512",
   "metadata": {},
   "outputs": [],
   "source": []
  },
  {
   "cell_type": "code",
   "execution_count": null,
   "id": "23a761a6-5887-460a-a863-ef3218efd468",
   "metadata": {},
   "outputs": [],
   "source": []
  }
 ],
 "metadata": {
  "kernelspec": {
   "display_name": "Python 3 (ipykernel)",
   "language": "python",
   "name": "python3"
  },
  "language_info": {
   "codemirror_mode": {
    "name": "ipython",
    "version": 3
   },
   "file_extension": ".py",
   "mimetype": "text/x-python",
   "name": "python",
   "nbconvert_exporter": "python",
   "pygments_lexer": "ipython3",
   "version": "3.9.10"
  }
 },
 "nbformat": 4,
 "nbformat_minor": 5
}
